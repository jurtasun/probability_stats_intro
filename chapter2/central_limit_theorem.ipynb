{
 "cells": [
  {
   "cell_type": "markdown",
   "metadata": {},
   "source": [
    "# Introduction to sampling and hypothesis testing"
   ]
  },
  {
   "cell_type": "markdown",
   "metadata": {},
   "source": [
    "## Chapter 2. Confidence intervals and the central limit theorem."
   ]
  },
  {
   "cell_type": "code",
   "execution_count": 1,
   "metadata": {},
   "outputs": [],
   "source": [
    "# Import libraries\n",
    "import numpy as np\n",
    "from scipy import stats\n",
    "import matplotlib.pyplot as plt"
   ]
  },
  {
   "cell_type": "markdown",
   "metadata": {},
   "source": [
    "### 2.1 The Central Limit Theorem\n",
    "\n",
    "In this chapter we will describe one of the most fundamental results in statistical inference. The central limit theorem (CLT) states that, for a series of independent and identically distributed (iid) random variables $x_{i}$, the distribution of sample means $\\bar{x}_{i}$ tends to a gaussian distribution as the sample size gets larger, _regardless of the population's distribution_. Sample sizes equal to or greater than 30 are often considered sufficient for the CLT to hold."
   ]
  },
  {
   "cell_type": "markdown",
   "metadata": {},
   "source": [
    "#### i) Consider random variable\n",
    "\n",
    "Compute number of sixes obtained when rolling ten dice.\n",
    "The probability distribution for our variable $X$ is binomial:"
   ]
  },
  {
   "cell_type": "code",
   "execution_count": 4,
   "metadata": {},
   "outputs": [],
   "source": [
    "# Binomial distribution with n=10, p=1/6\n",
    "sixes = stats.binom(10, 1/6)"
   ]
  },
  {
   "cell_type": "code",
   "execution_count": 5,
   "metadata": {},
   "outputs": [
    {
     "data": {
      "image/png": "[encoded data removed]",
      "text/plain": [
       "<Figure size 432x288 with 1 Axes>"
      ]
     },
     "metadata": {
      "needs_background": "light"
     },
     "output_type": "display_data"
    }
   ],
   "source": [
    "# Plot probability mass function\n",
    "x = np.arange(11)\n",
    "plt.plot(x, sixes.pmf(x), \"ro\", ms = 8)\n",
    "plt.vlines(x, 0, sixes.pmf(x), colors = \"r\", lw = 4)\n",
    "plt.show()"
   ]
  },
  {
   "cell_type": "markdown",
   "metadata": {},
   "source": [
    "The population mean, $\\mu$:"
   ]
  },
  {
   "cell_type": "code",
   "execution_count": 6,
   "metadata": {},
   "outputs": [
    {
     "data": {
      "text/plain": [
       "1.6666666666666665"
      ]
     },
     "execution_count": 6,
     "metadata": {},
     "output_type": "execute_result"
    }
   ],
   "source": [
    "# Compute mean value\n",
    "sixes.mean()"
   ]
  },
  {
   "cell_type": "markdown",
   "metadata": {},
   "source": [
    "The population variance, $\\sigma^2$:"
   ]
  },
  {
   "cell_type": "code",
   "execution_count": 7,
   "metadata": {},
   "outputs": [
    {
     "data": {
      "text/plain": [
       "1.3888888888888888"
      ]
     },
     "execution_count": 7,
     "metadata": {},
     "output_type": "execute_result"
    }
   ],
   "source": [
    "# Compute variance\n",
    "sixes.var()"
   ]
  },
  {
   "cell_type": "markdown",
   "metadata": {},
   "source": [
    "#### i) Small sample size\n",
    "\n",
    "Let's now imagine taking a sample of size $n = 5$ (i.e. _5 observations of the variable $X$_. In other words, 5 _repetitions_ of the same experiment.):"
   ]
  },
  {
   "cell_type": "code",
   "execution_count": 19,
   "metadata": {},
   "outputs": [
    {
     "name": "stdout",
     "output_type": "stream",
     "text": [
      "[0 0 2 1 2]\n"
     ]
    },
    {
     "data": {
      "image/png": "[encoded data removed]",
      "text/plain": [
       "<Figure size 432x288 with 1 Axes>"
      ]
     },
     "metadata": {
      "needs_background": "light"
     },
     "output_type": "display_data"
    }
   ],
   "source": [
    "# Simulate 5 repetitions of the experiment\n",
    "n = 5\n",
    "sample = sixes.rvs(size = n)\n",
    "print(sample)\n",
    "\n",
    "# Plot histogtam of x\n",
    "x = np.arange(11)\n",
    "plt.hist(sample, bins = x)\n",
    "plt.show()"
   ]
  },
  {
   "cell_type": "markdown",
   "metadata": {},
   "source": [
    "At this point we can plot the observed distribution of our sampled data, $x$. Out of completeness, and since it is a common misconception, by $n$ we mean now the number of times we repeat the experiment, also referred to as \"sample size\". The mean value is referred to as $\\bar{x}$, the _sample mean_. The variance of these values is referred to as $s^2$, the sample variance."
   ]
  },
  {
   "cell_type": "code",
   "execution_count": 20,
   "metadata": {},
   "outputs": [
    {
     "data": {
      "text/plain": [
       "1.0"
      ]
     },
     "execution_count": 20,
     "metadata": {},
     "output_type": "execute_result"
    }
   ],
   "source": [
    "# Compute sample mean\n",
    "sample.mean()"
   ]
  },
  {
   "cell_type": "code",
   "execution_count": 21,
   "metadata": {},
   "outputs": [
    {
     "data": {
      "text/plain": [
       "0.8"
      ]
     },
     "execution_count": 21,
     "metadata": {},
     "output_type": "execute_result"
    }
   ],
   "source": [
    "# Compute sample variance\n",
    "sample.var()"
   ]
  },
  {
   "cell_type": "markdown",
   "metadata": {},
   "source": [
    "Stop here for a moment and think about the meaning of the terms we are using. We started with _X_, the number of times we get a particular value when throwing 10 dice. Then we repeated the experiment and counted how that _X_ variable was distributed, and called that new variable _x_. Finally we computed the _mean value of these observations_, and called $\\bar{x}$.\n",
    "\n",
    "Notice that the value of $\\bar{x}$, which represents the mean value of all of our observations as we repeat the experiment, changes depending on the sample. We can treat this as an observation from a new random variable, $\\bar{X}$. Now if we repeat this process many times and plot a histogram of these sample means (the observed distribution of $\\bar{X}$)..."
   ]
  },
  {
   "cell_type": "code",
   "execution_count": 22,
   "metadata": {},
   "outputs": [],
   "source": [
    "# List storing sample means\n",
    "xbars = []\n",
    "\n",
    "# Simulate 1000 experiments, and store the mean for each one\n",
    "for i in range(1000):\n",
    "    sample = sixes.rvs(size = n)\n",
    "    xbar = np.mean(sample)\n",
    "    xbars.append(xbar)"
   ]
  },
  {
   "cell_type": "code",
   "execution_count": 23,
   "metadata": {},
   "outputs": [
    {
     "data": {
      "image/png": "[encoded data removed]",
      "text/plain": [
       "<Figure size 432x288 with 1 Axes>"
      ]
     },
     "metadata": {
      "needs_background": "light"
     },
     "output_type": "display_data"
    }
   ],
   "source": [
    "# Plot distrinbution of means\n",
    "fig, ax = plt.subplots(1, 1)\n",
    "ax.hist(xbars,bins = 50, range = (0, 5), color = \"g\")\n",
    "ax.set_title(\"n = \" + str(n))\n",
    "plt.show()"
   ]
  },
  {
   "cell_type": "markdown",
   "metadata": {},
   "source": [
    "The width of this histogram depends strongly on the sample size $n$, the _number of times we repeat the experiment_.\n",
    "\n",
    "You can see that the distribution of $\\bar{X}$ (a single experiment of rolling dice) is very different to the distribution of $X$, although it is centred around the same mean value. We call this the __sampling distribution of the mean__.\n",
    "\n",
    "For a sample of size $n$, the __Central Limit Theorem__ states that $\\bar{X}$ converges to a *normal distribution* as $n$ becomes large:\n",
    "\n",
    "$$ N \\approx N(\\mu, \\frac{\\sigma^2}{n}) $$\n",
    "\n",
    "The standard deviation of the $\\bar{X}$ distribution is called the **standard error**, $\\frac{\\sigma}{\\sqrt{n}}$. \n",
    "\n",
    "When $n$ is large, we can estimate the standard error as $\\frac{s}{\\sqrt{n}}$."
   ]
  },
  {
   "cell_type": "markdown",
   "metadata": {},
   "source": [
    "#### ii) Large sample size\n",
    "\n",
    "Let's now simulater a much larger sample size"
   ]
  },
  {
   "cell_type": "code",
   "execution_count": 24,
   "metadata": {},
   "outputs": [
    {
     "name": "stdout",
     "output_type": "stream",
     "text": [
      "[2 1 3 2 2 3 0 0 1 3 4 1 3 2 0 4 2 2 1 1 0 1 2 3 2 1 0 0 0 0 2 1 1 1 0 3 1\n",
      " 1 1 0 0 2 3 5 0 0 1 2 0 1 2 1 1 2 1 3 2 3 3 0 3 3 1 1 3 1 0 2 4 0 1 1 2 2\n",
      " 3 3 1 3 2 1 4 1 1 3 2 0 0 2 0 0 3 0 2 3 2 2 1 2 3 2]\n"
     ]
    },
    {
     "data": {
      "image/png": "[encoded data removed]",
      "text/plain": [
       "<Figure size 432x288 with 1 Axes>"
      ]
     },
     "metadata": {
      "needs_background": "light"
     },
     "output_type": "display_data"
    }
   ],
   "source": [
    "# Simulate 100 repetitions of the experiment\n",
    "n = 100\n",
    "sample = sixes.rvs(size = n)\n",
    "print(sample)\n",
    "\n",
    "# Plot histogtam of x\n",
    "x = np.arange(11)\n",
    "plt.hist(sample, bins = x)\n",
    "plt.show()"
   ]
  },
  {
   "cell_type": "code",
   "execution_count": 25,
   "metadata": {},
   "outputs": [],
   "source": [
    "# List storing sample means\n",
    "xbars = []\n",
    "\n",
    "# Simulate 1000 experiments, and store the mean for each one\n",
    "for i in range(1000):\n",
    "    sample = sixes.rvs(size = n)\n",
    "    xbar = np.mean(sample)\n",
    "    xbars.append(xbar)"
   ]
  },
  {
   "cell_type": "code",
   "execution_count": 26,
   "metadata": {},
   "outputs": [
    {
     "data": {
      "image/png": "[encoded data removed]",
      "text/plain": [
       "<Figure size 432x288 with 1 Axes>"
      ]
     },
     "metadata": {
      "needs_background": "light"
     },
     "output_type": "display_data"
    }
   ],
   "source": [
    "# Plot distrinbution of means\n",
    "fig, ax = plt.subplots(1, 1)\n",
    "ax.hist(xbars,bins = 50, range = (0, 5), color = \"g\")\n",
    "ax.set_title(\"n = \" + str(n))\n",
    "plt.show()"
   ]
  },
  {
   "cell_type": "markdown",
   "metadata": {},
   "source": [
    "The width of this histogram depends strongly on the sample size $n$, the _number of times we repeat the experiment_.\n",
    "\n",
    "You can see that the distribution of $\\bar{X}$ (a single experiment of rolling dice) is very different to the distribution of $X$, although it is centred around the same mean value. We call this the __sampling distribution of the mean__.\n",
    "\n",
    "For a sample of size $n$, the __Central Limit Theorem__ states that $\\bar{X}$ converges to a *normal distribution* as $n$ becomes large:\n",
    "\n",
    "$$ N \\approx N(\\mu, \\frac{\\sigma^2}{n}) $$\n",
    "\n",
    "The standard deviation of the $\\bar{X}$ distribution is called the **standard error**, $\\frac{\\sigma}{\\sqrt{n}}$. \n",
    "\n",
    "When $n$ is large, we can estimate the standard error as $\\frac{s}{\\sqrt{n}}$."
   ]
  }
 ],
 "metadata": {
  "kernelspec": {
   "display_name": "Python 3 (ipykernel)",
   "language": "python",
   "name": "python3"
  },
  "language_info": {
   "codemirror_mode": {
    "name": "ipython",
    "version": 3
   },
   "file_extension": ".py",
   "mimetype": "text/x-python",
   "name": "python",
   "nbconvert_exporter": "python",
   "pygments_lexer": "ipython3",
   "version": "3.9.12"
  }
 },
 "nbformat": 4,
 "nbformat_minor": 4
}
